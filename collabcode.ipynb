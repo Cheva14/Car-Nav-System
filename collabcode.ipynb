{
 "cells": [
  {
   "cell_type": "markdown",
   "id": "3f171393",
   "metadata": {},
   "source": [
    "# Coursework 2 & 3\n",
    "Imagine you work for an AI company, and you are asked to develop a car navigation system. The goal of the system is to find the optimal path from one city to another. To meet the coursework specification, you will design a Jupyter Notebook program and complete the following tasks:"
   ]
  },
  {
   "cell_type": "markdown",
   "id": "2d1beb9c",
   "metadata": {},
   "source": [
    "## Task 1: Define the map and the searching problem\n",
    "A map of this searching problem is given in Figure 1. The cities highlighted in red (Manchester, Holyhead, Liverpool, York, Carlisle, Newcastle, Glasgow, Edinburgh, Oban, Aberdeen, Inverness) are used as searching nodes. The distances by car between these cities are highlighted in blue (unit: miles)."
   ]
  },
  {
   "cell_type": "markdown",
   "id": "475156e0",
   "metadata": {},
   "source": [
    "### Task 1.1\n",
    "Develop codes and functions to store the map information in your program."
   ]
  },
  {
   "cell_type": "code",
   "execution_count": 1,
   "id": "688599e0",
   "metadata": {},
   "outputs": [],
   "source": [
    "graph = {\n",
    "    \"Manchester\": {\"Liverpool\": 40, \"York\": 70, \"Carlisle\": 120, \"Newcastle\": 140, \"Edinburgh\": 220},\n",
    "    \"Holyhead\": {\"Liverpool\": 90},\n",
    "    \"Liverpool\": {\"Manchester\": 40, \"Holyhead\": 90},\n",
    "    \"York\": {\"Manchester\": 70, \"Newcastle\": 80},\n",
    "    \"Carlisle\": {\"Manchester\": 120, \"Glasgow\": 100},\n",
    "    \"Newcastle\": {\"Manchester\": 140, \"York\": 80, \"Edinburgh\": 110},\n",
    "    \"Glasgow\": {\"Carlisle\": 100, \"Edinburgh\": 50, \"Oban\": 100, \"Aberdeen\": 140, \"Inverness\": 170},\n",
    "    \"Edinburgh\": {\"Manchester\": 220, \"Newcastle\": 110, \"Glasgow\": 50},\n",
    "    \"Oban\": {\"Glasgow\": 100, \"Inverness\": 110},\n",
    "    \"Aberdeen\": {\"Glasgow\": 140, \"Inverness\": 110},\n",
    "    \"Inverness\": {\"Glasgow\": 170, \"Oban\": 110, \"Aberdeen\": 110}\n",
    "}"
   ]
  },
  {
   "cell_type": "markdown",
   "id": "08655c22",
   "metadata": {},
   "source": [
    "### Task 1.2\n",
    "Define the start point and end point. Ideally, your program should provide some choices, and ask the user to select the start point and the end point from them. (You should at least consider the case that Manchester is the start point and Inverness is the end point, as the minimum requirement.)"
   ]
  },
  {
   "cell_type": "code",
   "execution_count": 2,
   "id": "50af5c54",
   "metadata": {},
   "outputs": [],
   "source": [
    "def valid_city(city):\n",
    "    if city in graph:\n",
    "        return True\n",
    "    return False"
   ]
  },
  {
   "cell_type": "markdown",
   "id": "29360f7e",
   "metadata": {},
   "source": [
    "### Task 1.3\n",
    "Find the straight-line distances between the end point city and other cities. You can use online tools, such as: https://www.freemaptools.com/how-far-is-it-between.htm. Develop codes and functions to store these straight-line distances as heuristic values"
   ]
  },
  {
   "cell_type": "code",
   "execution_count": 3,
   "id": "8968c19a",
   "metadata": {},
   "outputs": [],
   "source": [
    "from math import radians, sin, cos, sqrt, asin\n",
    "\n",
    "def haversine(lat1, lon1, lat2, lon2):\n",
    "    R = 3956  # radius of the earth in miles\n",
    "    dLat = radians(lat2 - lat1)\n",
    "    dLon = radians(lon2 - lon1)\n",
    "    lat1 = radians(lat1)\n",
    "    lat2 = radians(lat2)\n",
    "\n",
    "    a = sin(dLat / 2) ** 2 + cos(lat1) * cos(lat2) * sin(dLon / 2) ** 2\n",
    "    c = 2 * asin(sqrt(a))\n",
    "    distance = R * c\n",
    "    return round(distance)\n",
    "\n",
    "coordinates = {\n",
    "    \"Manchester\": (53.4808, -2.2426),\n",
    "    \"Holyhead\": (53.3084, -4.6314),\n",
    "    \"Liverpool\": (53.4084, -2.9916),\n",
    "    \"York\": (53.9599, -1.0873),\n",
    "    \"Carlisle\": (54.8924, -2.9323),\n",
    "    \"Newcastle\": (54.9783, -1.6178),\n",
    "    \"Glasgow\": (55.8642, -4.2518),\n",
    "    \"Edinburgh\": (55.9533, -3.1883),\n",
    "    \"Oban\": (56.4124, -5.4700),\n",
    "    \"Aberdeen\": (57.1497, -2.0943),\n",
    "    \"Inverness\": (57.4778, -4.2247)\n",
    "}\n",
    "\n",
    "def get_distances(city):\n",
    "    distances = {}\n",
    "    for other_cities in coordinates:\n",
    "        if other_cities != city:\n",
    "            lat1, lon1 = coordinates[city]\n",
    "            lat2, lon2 = coordinates[other_cities]\n",
    "            distances[other_cities] = haversine(lat1, lon1, lat2, lon2)\n",
    "        distances[other_cities] = 0\n",
    "    return distances"
   ]
  },
  {
   "cell_type": "markdown",
   "id": "4da1c596",
   "metadata": {},
   "source": [
    "## Task 2: Define the searching algorithms\n",
    "Your program should at least employ the following three searching algorithms."
   ]
  },
  {
   "cell_type": "markdown",
   "id": "7919bd08",
   "metadata": {},
   "source": [
    "### Task 2.1\n",
    "Depth first search"
   ]
  },
  {
   "cell_type": "code",
   "execution_count": 4,
   "id": "95bcba97",
   "metadata": {},
   "outputs": [],
   "source": [
    "def dfs(graph, start, goal, visited=None):\n",
    "    if visited is None:\n",
    "        visited = set()\n",
    "    visited.add(start)\n",
    "    if start == goal:\n",
    "        return [goal]\n",
    "    for neighbor in graph[start]:\n",
    "        if neighbor not in visited:\n",
    "            path = dfs(graph, neighbor, goal, visited)\n",
    "            if path:\n",
    "                return [start] + path\n",
    "    return None\n",
    "\n",
    "def print_dfs(graph, start, goal):\n",
    "    path = dfs(graph, start, goal)\n",
    "    if path:\n",
    "        distance = sum(graph[path[i]][path[i+1]] for i in range(len(path)-1))\n",
    "        print(f\"The path from {start} to {goal} using depth first search is: {' -> '.join(path)} and the distance is: {distance} miles.\")\n",
    "    else:\n",
    "        print(\"No path found.\")"
   ]
  },
  {
   "cell_type": "markdown",
   "id": "703553de",
   "metadata": {},
   "source": [
    "### Task 2.2\n",
    "Breadth first search"
   ]
  },
  {
   "cell_type": "code",
   "execution_count": 5,
   "id": "40262876",
   "metadata": {},
   "outputs": [],
   "source": [
    "from collections import deque\n",
    "\n",
    "def bfs(graph, start, goal):\n",
    "    visited = set()\n",
    "    queue = deque([[start]])\n",
    "    while queue:\n",
    "        path = queue.popleft()\n",
    "        node = path[-1]\n",
    "        if node == goal:\n",
    "            return path\n",
    "        if node not in visited:\n",
    "            visited.add(node)\n",
    "            for neighbor in graph[node]:\n",
    "                new_path = list(path)\n",
    "                new_path.append(neighbor)\n",
    "                queue.append(new_path)\n",
    "    return None\n",
    "\n",
    "def print_bfs(graph, start, goal):\n",
    "    path = bfs(graph, start, goal)\n",
    "    if path:\n",
    "        distance = sum(graph[path[i]][path[i+1]] for i in range(len(path)-1))\n",
    "        print(f\"The path from {start} to {goal} using breadth first search is: {' -> '.join(path)} and the distance is: {distance} miles.\")\n",
    "    else:\n",
    "        print(\"No path found.\")"
   ]
  },
  {
   "cell_type": "markdown",
   "id": "f1cf2558",
   "metadata": {},
   "source": [
    "### Task 2.3\n",
    "A* search"
   ]
  },
  {
   "cell_type": "code",
   "execution_count": 6,
   "id": "2c5eceff",
   "metadata": {},
   "outputs": [],
   "source": [
    "from queue import PriorityQueue\n",
    "\n",
    "def astar(graph, start, goal, heuristic):\n",
    "    queue = PriorityQueue()\n",
    "    queue.put((0, start))\n",
    "    visited = {start: None}\n",
    "    g_score = {start: 0}\n",
    "    while not queue.empty():\n",
    "        (f, current) = queue.get()\n",
    "        if current == goal:\n",
    "            path = []\n",
    "            while current is not None:\n",
    "                path.append(current)\n",
    "                current = visited[current]\n",
    "            path.reverse()\n",
    "            return path\n",
    "        for neighbor in graph[current]:\n",
    "            tentative_g_score = g_score[current] + graph[current][neighbor]\n",
    "            if neighbor not in g_score or tentative_g_score < g_score[neighbor]:\n",
    "                g_score[neighbor] = tentative_g_score\n",
    "                f = g_score[neighbor] + heuristic[neighbor]\n",
    "                queue.put((f, neighbor))\n",
    "                visited[neighbor] = current\n",
    "    return None\n",
    "\n",
    "def print_astar(graph, start, goal, heuristic):\n",
    "    path = astar(graph, start, goal, heuristic)\n",
    "    if path:\n",
    "        distance = sum(graph[path[i]][path[i+1]] for i in range(len(path)-1))\n",
    "        print(f\"The path from {start} to {goal} using A* search is: {' -> '.join(path)} and the distance is: {distance} miles.\")\n",
    "    else:\n",
    "        print(\"No path found.\")"
   ]
  },
  {
   "cell_type": "markdown",
   "id": "d2438c4e",
   "metadata": {},
   "source": [
    "### Task 2.4 (Optional)\n",
    "Optionally, you can add a 4th algorithm and you should explain why you choose this algorithm. You will get bonus mark for the 4th algorithm."
   ]
  },
  {
   "cell_type": "code",
   "execution_count": 7,
   "id": "3b93842f",
   "metadata": {},
   "outputs": [],
   "source": [
    "def gbfs(graph, start, goal, heuristic):\n",
    "    queue = PriorityQueue()\n",
    "    queue.put((heuristic[start], start))\n",
    "    visited = {start: None}\n",
    "    while not queue.empty():\n",
    "        (_, current) = queue.get()\n",
    "        if current == goal:\n",
    "            path = []\n",
    "            while current is not None:\n",
    "                path.append(current)\n",
    "                current = visited[current]\n",
    "            path.reverse()\n",
    "            return path\n",
    "        for neighbor in graph[current]:\n",
    "            if neighbor not in visited:\n",
    "                queue.put((heuristic[neighbor], neighbor))\n",
    "                visited[neighbor] = current\n",
    "    return None\n",
    "\n",
    "def print_gbfs(graph, start, goal, heuristic):\n",
    "    path = gbfs(graph, start, goal, heuristic)\n",
    "    if path:\n",
    "        distance = sum(graph[path[i]][path[i+1]] for i in range(len(path)-1))\n",
    "        print(f\"The path from {start} to {goal} using greedy best-first search is: {' -> '.join(path)} and the distance is: {distance} miles.\")\n",
    "    else:\n",
    "        print(\"No path found.\")"
   ]
  },
  {
   "cell_type": "markdown",
   "id": "7f4f59bd",
   "metadata": {},
   "source": [
    "## Task 3: Show the results\n",
    "Given the start point and end point, your program should run the searching algorithms and display the results to users. Your program should display the suggested path given by each of the searching algorithms that you employed, along with the total driving distance of each path. "
   ]
  },
  {
   "cell_type": "code",
   "execution_count": null,
   "id": "29b9eda1",
   "metadata": {},
   "outputs": [
    {
     "name": "stdout",
     "output_type": "stream",
     "text": [
      "Enter the starting city: Manchester\n",
      "Enter the ending city: Inverness\n",
      "The path from Manchester to Inverness using depth first search is: Manchester -> York -> Newcastle -> Edinburgh -> Glasgow -> Oban -> Inverness and the distance is: 520 miles.\n",
      "The path from Manchester to Inverness using breadth first search is: Manchester -> Carlisle -> Glasgow -> Inverness and the distance is: 390 miles.\n",
      "The path from Manchester to Inverness using A* search is: Manchester -> Carlisle -> Glasgow -> Inverness and the distance is: 390 miles.\n",
      "The path from Manchester to Inverness using greedy best-first search is: Manchester -> Carlisle -> Glasgow -> Inverness and the distance is: 390 miles.\n",
      "If you want to stop, then type 'stop', if you want to continue, then type anything: a\n",
      "Enter the starting city: Oban\n",
      "Enter the ending city: York\n",
      "The path from Oban to York using depth first search is: Oban -> Glasgow -> Carlisle -> Manchester -> York and the distance is: 390 miles.\n",
      "The path from Oban to York using breadth first search is: Oban -> Glasgow -> Carlisle -> Manchester -> York and the distance is: 390 miles.\n",
      "The path from Oban to York using A* search is: Oban -> Glasgow -> Edinburgh -> Newcastle -> York and the distance is: 340 miles.\n",
      "The path from Oban to York using greedy best-first search is: Oban -> Glasgow -> Carlisle -> Manchester -> York and the distance is: 390 miles.\n"
     ]
    }
   ],
   "source": [
    "def run_program():\n",
    "    while (True):\n",
    "        run = \"\"\n",
    "        start = input(\"Enter the starting city: \")\n",
    "        if valid_city(start):\n",
    "            while (True):\n",
    "                goal = input(\"Enter the ending city: \")\n",
    "                if valid_city(goal):\n",
    "                    heuristic = get_distances(goal)\n",
    "                    print_dfs(graph, start, goal)\n",
    "                    print_bfs(graph, start, goal)\n",
    "                    print_astar(graph, start, goal, heuristic)\n",
    "                    print_gbfs(graph, start, goal, heuristic)\n",
    "                    run = input(\"If you want to stop, then type 'stop', if you want to continue, then type anything: \")\n",
    "                    break\n",
    "                else:\n",
    "                    print(f\"{goal} is not a valid city name, try: Manchester, Holyhead, Liverpool, York, Carlisle, Newcastle, Glasgow, Edinburgh, Oban, Aberdeen or Inverness\")\n",
    "        else:\n",
    "            print(f\"{start} is not a valid city name, try: Manchester, Holyhead, Liverpool, York, Carlisle, Newcastle, Glasgow, Edinburgh, Oban, Aberdeen or Inverness\")\n",
    "        if (run == \"stop\"):\n",
    "            print(\"Goodbye!\")\n",
    "            break\n",
    "            \n",
    "run_program()"
   ]
  },
  {
   "cell_type": "code",
   "execution_count": null,
   "id": "935da24f",
   "metadata": {},
   "outputs": [],
   "source": []
  }
 ],
 "metadata": {
  "kernelspec": {
   "display_name": "Python 3 (ipykernel)",
   "language": "python",
   "name": "python3"
  },
  "language_info": {
   "codemirror_mode": {
    "name": "ipython",
    "version": 3
   },
   "file_extension": ".py",
   "mimetype": "text/x-python",
   "name": "python",
   "nbconvert_exporter": "python",
   "pygments_lexer": "ipython3",
   "version": "3.9.13"
  }
 },
 "nbformat": 4,
 "nbformat_minor": 5
}
